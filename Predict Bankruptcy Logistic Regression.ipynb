{
 "cells": [
  {
   "cell_type": "markdown",
   "metadata": {},
   "source": [
    "# Predict Bankrupcy\n",
    "\n",
    "*The data is used from challenge in http://www.scriptedin.com*"
   ]
  },
  {
   "cell_type": "markdown",
   "metadata": {},
   "source": [
    "### Lets explore the data first"
   ]
  },
  {
   "cell_type": "code",
   "execution_count": 3,
   "metadata": {},
   "outputs": [
    {
     "name": "stdout",
     "output_type": "stream",
     "text": [
      "   SALES     ROCE    FFTL    GEAR    CLTA    CACL    QACL    WCTA  LAG  AGE  \\\n",
      "0   7646  31.2239  0.6312  0.5205  0.4829  1.6397  1.4935  0.3089  286   25   \n",
      "1  36067  10.9613  0.3540  0.3786  0.3786  1.5852  1.1626  0.2216  301   33   \n",
      "2  16737  17.9949  0.4388  0.5236  0.4347  1.1748  0.9795  0.0760   55   26   \n",
      "3  48162   6.1787  0.1181  0.9996  0.7437  1.3007  0.9070  0.2236  303   34   \n",
      "4   6953   0.0648  0.1447  0.9520  0.4976  1.0410  0.5355  0.0204  362   14   \n",
      "\n",
      "   CHAUD  BIG6  FAIL  \n",
      "0      0     0     0  \n",
      "1      0     1     0  \n",
      "2      0     1     0  \n",
      "3      0     0     1  \n",
      "4      1     1     1  \n",
      "<class 'pandas.core.frame.DataFrame'>\n",
      "RangeIndex: 44 entries, 0 to 43\n",
      "Data columns (total 13 columns):\n",
      "SALES    44 non-null int64\n",
      "ROCE     44 non-null float64\n",
      "FFTL     44 non-null float64\n",
      "GEAR     44 non-null float64\n",
      "CLTA     44 non-null float64\n",
      "CACL     44 non-null float64\n",
      "QACL     44 non-null float64\n",
      "WCTA     44 non-null float64\n",
      "LAG      44 non-null int64\n",
      "AGE      44 non-null int64\n",
      "CHAUD    44 non-null int64\n",
      "BIG6     44 non-null int64\n",
      "FAIL     44 non-null int64\n",
      "dtypes: float64(7), int64(6)\n",
      "memory usage: 4.5 KB\n",
      "None\n",
      "              SALES       ROCE       FFTL       GEAR       CLTA       CACL  \\\n",
      "count     44.000000  44.000000  44.000000  44.000000  44.000000  44.000000   \n",
      "mean   13219.931818   2.333109   0.156677   0.794457   0.604450   1.287757   \n",
      "std    13127.423030  13.692977   0.183607   0.497027   0.268583   0.658571   \n",
      "min     2857.000000 -37.350000  -0.212100   0.121200   0.121200   0.497400   \n",
      "25%     4043.750000  -4.449975   0.029950   0.565150   0.427525   0.885825   \n",
      "50%     7858.000000   1.982250   0.139750   0.737350   0.566300   1.180600   \n",
      "75%    16876.500000   9.176300   0.260775   0.877325   0.717000   1.545525   \n",
      "max    48162.000000  33.845100   0.631200   3.533600   1.486500   4.446500   \n",
      "\n",
      "            QACL       WCTA         LAG        AGE      CHAUD       BIG6  \\\n",
      "count  44.000000  44.000000   44.000000  44.000000  44.000000  44.000000   \n",
      "mean    0.902114   0.061086  250.909091  27.181818   0.181818   0.477273   \n",
      "std     0.531350   0.249514   86.826965  22.927867   0.390154   0.505258   \n",
      "min     0.284700  -0.747000   55.000000   2.000000   0.000000   0.000000   \n",
      "25%     0.533250  -0.059575  195.750000  10.750000   0.000000   0.000000   \n",
      "50%     0.751350   0.091650  286.500000  23.500000   0.000000   0.000000   \n",
      "75%     1.162950   0.224050  301.000000  33.250000   0.000000   1.000000   \n",
      "max     3.363500   0.448200  421.000000  90.000000   1.000000   1.000000   \n",
      "\n",
      "            FAIL  \n",
      "count  44.000000  \n",
      "mean    0.500000  \n",
      "std     0.505781  \n",
      "min     0.000000  \n",
      "25%     0.000000  \n",
      "50%     0.500000  \n",
      "75%     1.000000  \n",
      "max     1.000000  \n",
      "1    22\n",
      "0    22\n",
      "Name: FAIL, dtype: int64\n"
     ]
    }
   ],
   "source": [
    "import pandas as pd\n",
    "\n",
    "data=pd.read_csv(\"../bankruptcytrainpost.csv\")\n",
    "\n",
    "#check first few values\n",
    "print(data.head())\n",
    "\n",
    "#check for missing values and data types\n",
    "print(data.info())\n",
    "\n",
    "#check summary statistics in each numerical column\n",
    "print(data.describe())\n",
    "\n",
    "#how the target values are distributed?\n",
    "print(data[\"FAIL\"].value_counts())"
   ]
  },
  {
   "cell_type": "markdown",
   "metadata": {},
   "source": [
    "All the features are numeric more importantly no missing values!!. Looks like we may need to scale the data as some features going to dominate the model if we directly use the raw data. Let's start with simplest form of logistic regression model."
   ]
  },
  {
   "cell_type": "markdown",
   "metadata": {},
   "source": [
    "### Simple Logistic Regression Model"
   ]
  },
  {
   "cell_type": "code",
   "execution_count": 4,
   "metadata": {},
   "outputs": [
    {
     "name": "stdout",
     "output_type": "stream",
     "text": [
      "Accuracy of logistic regression classifier on test set: 0.71\n"
     ]
    }
   ],
   "source": [
    "from sklearn.linear_model import LogisticRegression\n",
    "from sklearn.model_selection import train_test_split\n",
    "\n",
    "#drop the target to have all features on X\n",
    "X=data.drop('FAIL',axis=1).values\n",
    "y=data['FAIL'].values\n",
    "\n",
    "#split data into train and test set\n",
    "X_train, X_test, y_train, y_test = train_test_split(X, y, test_size=0.3, random_state=21)\n",
    "\n",
    "logreg = LogisticRegression()\n",
    "\n",
    "#fit model on training data\n",
    "logreg.fit(X_train, y_train)\n",
    "\n",
    "#model accuracy\n",
    "print('Accuracy of logistic regression classifier on test set: {:.2f}'.format(logreg.score(X_test, y_test)))"
   ]
  },
  {
   "cell_type": "markdown",
   "metadata": {},
   "source": [
    "Let's see whether we can improve the accuracy of the by scaling the data."
   ]
  },
  {
   "cell_type": "markdown",
   "metadata": {},
   "source": [
    "### Standard Scaler on the Data"
   ]
  },
  {
   "cell_type": "code",
   "execution_count": 5,
   "metadata": {},
   "outputs": [
    {
     "name": "stdout",
     "output_type": "stream",
     "text": [
      "Accuracy with Scaling: 0.79\n"
     ]
    }
   ],
   "source": [
    "from sklearn.preprocessing import StandardScaler\n",
    "from sklearn.pipeline import Pipeline\n",
    "\n",
    "# setup the pipeline steps\n",
    "steps = [('scaler', StandardScaler()),\n",
    "        ('lr', LogisticRegression())]\n",
    "        \n",
    "# create the pipeline\n",
    "pipeline = Pipeline(steps)\n",
    "\n",
    "#fit the pipeline to the training set\n",
    "lr_scaled = pipeline.fit(X_train,y_train)\n",
    "\n",
    "print('Accuracy with Scaling: {:.2f}'.format(lr_scaled.score(X_test,y_test)))"
   ]
  },
  {
   "cell_type": "markdown",
   "metadata": {},
   "source": [
    "Look like it improved the accuracy. Logistic Regression is using Hyperparameter \"C\". Can we tune that inorder to get a better model."
   ]
  },
  {
   "cell_type": "markdown",
   "metadata": {},
   "source": [
    "### Hyperparameter Tuning"
   ]
  },
  {
   "cell_type": "code",
   "execution_count": 6,
   "metadata": {},
   "outputs": [
    {
     "name": "stdout",
     "output_type": "stream",
     "text": [
      "Accuracy with Hyperparameter tuning: 0.86\n"
     ]
    }
   ],
   "source": [
    "from sklearn.model_selection import GridSearchCV\n",
    "\n",
    "parameters = {'lr__C': [0.001,0.01,0.1,1,10,100]}\n",
    "\n",
    "#tune the parameter from GridSearch\n",
    "lr_gs = GridSearchCV(pipeline,param_grid= parameters)\n",
    "\n",
    "lr_gs.fit(X_train,y_train)\n",
    "\n",
    "print('Accuracy with Hyperparameter tuning: {:.2f}'.format(lr_gs.score(X_test,y_test)))"
   ]
  },
  {
   "cell_type": "markdown",
   "metadata": {},
   "source": [
    "Scaling plus Hyperparameter tuning gives the best model so far. Let's check precision and recall."
   ]
  },
  {
   "cell_type": "markdown",
   "metadata": {},
   "source": [
    "### Confusion Matrix and Classification Report"
   ]
  },
  {
   "cell_type": "code",
   "execution_count": 9,
   "metadata": {},
   "outputs": [
    {
     "name": "stdout",
     "output_type": "stream",
     "text": [
      "[[8 1]\n",
      " [1 4]]\n",
      "             precision    recall  f1-score   support\n",
      "\n",
      "          0       0.89      0.89      0.89         9\n",
      "          1       0.80      0.80      0.80         5\n",
      "\n",
      "avg / total       0.86      0.86      0.86        14\n",
      "\n"
     ]
    }
   ],
   "source": [
    "from sklearn.metrics import confusion_matrix\n",
    "from sklearn.metrics import classification_report\n",
    "\n",
    "#predict y values on X test\n",
    "y_pred=lr_gs.predict(X_test)\n",
    "\n",
    "print(confusion_matrix(y_test,y_pred))\n",
    "print(classification_report(y_test, y_pred))"
   ]
  },
  {
   "cell_type": "markdown",
   "metadata": {},
   "source": [
    "Let's check the ROC curve. Sample size is small and there are not much continous features available. Therefore curve is not going to be a smooth one.\n"
   ]
  },
  {
   "cell_type": "markdown",
   "metadata": {},
   "source": [
    "### ROC Curve\n"
   ]
  },
  {
   "cell_type": "code",
   "execution_count": 11,
   "metadata": {},
   "outputs": [
    {
     "data": {
      "image/png": "[encoded data removed]",
      "text/plain": [
       "<Figure size 432x288 with 1 Axes>"
      ]
     },
     "metadata": {},
     "output_type": "display_data"
    }
   ],
   "source": [
    "from sklearn.metrics import roc_curve\n",
    "import matplotlib.pyplot as plt\n",
    "\n",
    "#need probabilities rather than 1 or 0\n",
    "y_pred_prob=lr_gs.predict_proba(X_test)[:,1]\n",
    "\n",
    "fpr,tpr,threshold= roc_curve(y_test, y_pred_prob)\n",
    "\n",
    "# Plot ROC curve\n",
    "plt.plot([0, 1], [0, 1], 'k--')\n",
    "plt.plot(fpr, tpr)\n",
    "plt.xlabel('False Positive Rate')\n",
    "plt.ylabel('True Positive Rate')\n",
    "plt.title('ROC Curve')\n",
    "plt.show()"
   ]
  }
 ],
 "metadata": {
  "kernelspec": {
   "display_name": "Python 3",
   "language": "python",
   "name": "python3"
  },
  "language_info": {
   "codemirror_mode": {
    "name": "ipython",
    "version": 3
   },
   "file_extension": ".py",
   "mimetype": "text/x-python",
   "name": "python",
   "nbconvert_exporter": "python",
   "pygments_lexer": "ipython3",
   "version": "3.6.5"
  }
 },
 "nbformat": 4,
 "nbformat_minor": 2
}
