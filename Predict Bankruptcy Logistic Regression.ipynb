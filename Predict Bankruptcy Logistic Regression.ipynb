{
 "cells": [
  {
   "cell_type": "markdown",
   "metadata": {},
   "source": [
    "# Predict Bankrupcy\n",
    "\n",
    "*The data is used from challenge in http://www.scriptedin.com*"
   ]
  },
  {
   "cell_type": "markdown",
   "metadata": {},
   "source": [
    "### Lets explore the data first"
   ]
  },
  {
   "cell_type": "code",
   "execution_count": 2,
   "metadata": {},
   "outputs": [
    {
     "name": "stdout",
     "output_type": "stream",
     "text": [
      "   SALES     ROCE    FFTL    GEAR    CLTA    CACL    QACL    WCTA  LAG  AGE  \\\n",
      "0   7646  31.2239  0.6312  0.5205  0.4829  1.6397  1.4935  0.3089  286   25   \n",
      "1  36067  10.9613  0.3540  0.3786  0.3786  1.5852  1.1626  0.2216  301   33   \n",
      "2  16737  17.9949  0.4388  0.5236  0.4347  1.1748  0.9795  0.0760   55   26   \n",
      "3  48162   6.1787  0.1181  0.9996  0.7437  1.3007  0.9070  0.2236  303   34   \n",
      "4   6953   0.0648  0.1447  0.9520  0.4976  1.0410  0.5355  0.0204  362   14   \n",
      "\n",
      "   CHAUD  BIG6  FAIL  \n",
      "0      0     0     0  \n",
      "1      0     1     0  \n",
      "2      0     1     0  \n",
      "3      0     0     1  \n",
      "4      1     1     1  \n",
      "<class 'pandas.core.frame.DataFrame'>\n",
      "RangeIndex: 44 entries, 0 to 43\n",
      "Data columns (total 13 columns):\n",
      "SALES    44 non-null int64\n",
      "ROCE     44 non-null float64\n",
      "FFTL     44 non-null float64\n",
      "GEAR     44 non-null float64\n",
      "CLTA     44 non-null float64\n",
      "CACL     44 non-null float64\n",
      "QACL     44 non-null float64\n",
      "WCTA     44 non-null float64\n",
      "LAG      44 non-null int64\n",
      "AGE      44 non-null int64\n",
      "CHAUD    44 non-null int64\n",
      "BIG6     44 non-null int64\n",
      "FAIL     44 non-null int64\n",
      "dtypes: float64(7), int64(6)\n",
      "memory usage: 4.5 KB\n",
      "None\n",
      "              SALES       ROCE       FFTL       GEAR       CLTA       CACL  \\\n",
      "count     44.000000  44.000000  44.000000  44.000000  44.000000  44.000000   \n",
      "mean   13219.931818   2.333109   0.156677   0.794457   0.604450   1.287757   \n",
      "std    13127.423030  13.692977   0.183607   0.497027   0.268583   0.658571   \n",
      "min     2857.000000 -37.350000  -0.212100   0.121200   0.121200   0.497400   \n",
      "25%     4043.750000  -4.449975   0.029950   0.565150   0.427525   0.885825   \n",
      "50%     7858.000000   1.982250   0.139750   0.737350   0.566300   1.180600   \n",
      "75%    16876.500000   9.176300   0.260775   0.877325   0.717000   1.545525   \n",
      "max    48162.000000  33.845100   0.631200   3.533600   1.486500   4.446500   \n",
      "\n",
      "            QACL       WCTA         LAG        AGE      CHAUD       BIG6  \\\n",
      "count  44.000000  44.000000   44.000000  44.000000  44.000000  44.000000   \n",
      "mean    0.902114   0.061086  250.909091  27.181818   0.181818   0.477273   \n",
      "std     0.531350   0.249514   86.826965  22.927867   0.390154   0.505258   \n",
      "min     0.284700  -0.747000   55.000000   2.000000   0.000000   0.000000   \n",
      "25%     0.533250  -0.059575  195.750000  10.750000   0.000000   0.000000   \n",
      "50%     0.751350   0.091650  286.500000  23.500000   0.000000   0.000000   \n",
      "75%     1.162950   0.224050  301.000000  33.250000   0.000000   1.000000   \n",
      "max     3.363500   0.448200  421.000000  90.000000   1.000000   1.000000   \n",
      "\n",
      "            FAIL  \n",
      "count  44.000000  \n",
      "mean    0.500000  \n",
      "std     0.505781  \n",
      "min     0.000000  \n",
      "25%     0.000000  \n",
      "50%     0.500000  \n",
      "75%     1.000000  \n",
      "max     1.000000  \n",
      "1    22\n",
      "0    22\n",
      "Name: FAIL, dtype: int64\n"
     ]
    }
   ],
   "source": [
    "import pandas as pd\n",
    "\n",
    "data=pd.read_csv(\"../bankruptcytrainpost.csv\")\n",
    "\n",
    "#check first few values\n",
    "print(data.head())\n",
    "\n",
    "#check for missing values and data types\n",
    "print(data.info())\n",
    "\n",
    "#check summary statistics in each numerical column\n",
    "print(data.describe())\n",
    "\n",
    "#how the target values are distributed?\n",
    "print(data[\"FAIL\"].value_counts())"
   ]
  },
  {
   "cell_type": "markdown",
   "metadata": {},
   "source": [
    "All the features are numeric more importantly no missing values!!. Looks like we may need to scale the data as some features going to dominate the model if we directly use the raw data. Let's start with simplest form of logistic regression model."
   ]
  },
  {
   "cell_type": "markdown",
   "metadata": {},
   "source": [
    "### Simple Logistic Regression Model"
   ]
  },
  {
   "cell_type": "code",
   "execution_count": 3,
   "metadata": {},
   "outputs": [
    {
     "name": "stdout",
     "output_type": "stream",
     "text": [
      "Accuracy of logistic regression classifier on test set: 0.71\n"
     ]
    }
   ],
   "source": [
    "from sklearn.linear_model import LogisticRegression\n",
    "from sklearn.model_selection import train_test_split\n",
    "\n",
    "#drop the target to have all features on X\n",
    "X=data.drop('FAIL',axis=1).values\n",
    "y=data['FAIL'].values\n",
    "\n",
    "#split data into train and test set\n",
    "X_train, X_test, y_train, y_test = train_test_split(X, y, test_size=0.3, random_state=21)\n",
    "\n",
    "logreg = LogisticRegression()\n",
    "\n",
    "#fit model on training data\n",
    "logreg.fit(X_train, y_train)\n",
    "\n",
    "#model accuracy\n",
    "print('Accuracy of logistic regression classifier on test set: {:.2f}'.format(logreg.score(X_test, y_test)))"
   ]
  }
 ],
 "metadata": {
  "kernelspec": {
   "display_name": "Python 3",
   "language": "python",
   "name": "python3"
  },
  "language_info": {
   "codemirror_mode": {
    "name": "ipython",
    "version": 3
   },
   "file_extension": ".py",
   "mimetype": "text/x-python",
   "name": "python",
   "nbconvert_exporter": "python",
   "pygments_lexer": "ipython3",
   "version": "3.6.5"
  }
 },
 "nbformat": 4,
 "nbformat_minor": 2
}
